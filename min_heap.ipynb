{
  "nbformat": 4,
  "nbformat_minor": 0,
  "metadata": {
    "colab": {
      "provenance": []
    },
    "kernelspec": {
      "name": "python3",
      "display_name": "Python 3"
    },
    "language_info": {
      "name": "python"
    }
  },
  "cells": [
    {
      "cell_type": "code",
      "execution_count": 6,
      "metadata": {
        "colab": {
          "base_uri": "https://localhost:8080/"
        },
        "id": "pu8cXwQZc_6t",
        "outputId": "13cc7f30-37b4-418b-b608-3908d6ce9916"
      },
      "outputs": [
        {
          "output_type": "stream",
          "name": "stdout",
          "text": [
            "Heap after build: [1, 3, 2, 9, 5, 6, 4]\n",
            "Heap after inserting 0: [0, 1, 2, 3, 5, 6, 4, 9]\n",
            "Popped root: 0\n",
            "Heap after popping root: [1, 3, 2, 9, 5, 6, 4]\n"
          ]
        }
      ],
      "source": [
        "class MinHeap:\n",
        "    def __init__(self):\n",
        "        self.heap = []\n",
        "\n",
        "    def parent(self, i):\n",
        "        return (i - 1) >> 1\n",
        "\n",
        "    def left(self, i):\n",
        "        return (i << 1) + 1\n",
        "\n",
        "    def right(self, i):\n",
        "        return (i << 1) + 2\n",
        "\n",
        "    def build_min_heap(self, array):\n",
        "        self.heap = array\n",
        "        n = len(self.heap)\n",
        "        for i in range(n // 2 - 1, -1, -1):\n",
        "            self.heapify(i)\n",
        "\n",
        "    def heapify(self, i):\n",
        "        l = self.left(i)\n",
        "        r = self.right(i)\n",
        "        smallest = i\n",
        "        if l < len(self.heap) and self.heap[l] < self.heap[i]:\n",
        "            smallest = l\n",
        "        if r < len(self.heap) and self.heap[r] < self.heap[smallest]:\n",
        "            smallest = r\n",
        "        if smallest != i:\n",
        "            self.heap[i], self.heap[smallest] = self.heap[smallest], self.heap[i]\n",
        "            self.heapify(smallest)\n",
        "\n",
        "    def pop(self):\n",
        "        if not self.heap:\n",
        "            return None\n",
        "        root = self.heap[0]\n",
        "        self.heap[0] = self.heap[-1]\n",
        "        self.heap.pop()\n",
        "        self.heapify(0)\n",
        "        return root\n",
        "\n",
        "    def insert(self, key):\n",
        "        self.heap.append(key)\n",
        "        i = len(self.heap) - 1\n",
        "        while i != 0 and self.heap[self.parent(i)] > self.heap[i]:\n",
        "            self.heap[i], self.heap[self.parent(i)] = self.heap[self.parent(i)], self.heap[i]\n",
        "            i = self.parent(i)\n",
        "\n",
        "# Example usage\n",
        "heap = MinHeap()\n",
        "heap.build_min_heap([3, 1, 6, 9, 5, 2, 4])\n",
        "print(\"Heap after build:\", heap.heap)\n",
        "\n",
        "heap.insert(0)\n",
        "print(\"Heap after inserting 0:\", heap.heap)\n",
        "\n",
        "print(\"Popped root:\", heap.pop())\n",
        "print(\"Heap after popping root:\", heap.heap)"
      ]
    },
    {
      "cell_type": "code",
      "source": [],
      "metadata": {
        "id": "URKxVD3UdJwM"
      },
      "execution_count": null,
      "outputs": []
    }
  ]
}